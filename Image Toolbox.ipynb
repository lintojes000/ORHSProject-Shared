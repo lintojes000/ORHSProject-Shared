{
 "cells": [
  {
   "cell_type": "markdown",
   "id": "e1c3ff01-555b-4560-9e76-05a647b88f4d",
   "metadata": {},
   "source": [
    "Goal of our class:\n",
    "\n",
    "Create and hold a 2D image representing a slice of neutron data. Will also contain a series of tools to manipulate the image (for example, applying masks). Beginning by looking at the individual images and then possibly creating a different/another class that holds thousands of images. \n",
    "One method could be giving the class the neutron data, and then telling it what to give us as an output.\n",
    "\n",
    "Title class one: Image Toolbox \n",
    "Title class two: tbd"
   ]
  },
  {
   "cell_type": "markdown",
   "id": "02ec0fdd-eb87-465a-b216-01848e20601c",
   "metadata": {},
   "source": [
    "Plan for initializing code/our class: replicate the functionality of prev. used imagefactory (see ORHS_template). \n",
    "1. Needs name of workspace (with the neutron data) #workspace is also its own version of a class\n",
    "2. Needs min and max values of that slice\n",
    "3. Import mantid software (provides container of neutron data)\n",
    "\n",
    "Example of use: slice = ImageToolbox(wsname, xmin, xmax)\n",
    "1-3 lists all we would need to create a slice of data"
   ]
  },
  {
   "cell_type": "markdown",
   "id": "cdbff13b-8e96-44d5-a26d-d25bbed613c9",
   "metadata": {},
   "source": [
    "Initial attributes for our class:\n",
    "\n",
    "1. name of neutron workspace (wsname)\n",
    "2. needs to know the minimum value along the x-axis to be able to slice the data (xmin)\n",
    "3. needs to know the maximum value along the x-axis to be able to slice the data (xmax)\n",
    "4. needs to know units of x-axis (xunits)\n",
    "5. needs to know the x value (time value) of the slice (tvalue)"
   ]
  },
  {
   "cell_type": "markdown",
   "id": "1a86d1df-049f-496b-9edd-33a5a971463a",
   "metadata": {},
   "source": [
    "Useful functions for the functionality of the class:\n",
    "\n",
    "1. First function needs to load the data into the workspace (wsname in this case)\n",
    "2. Second function needs to make an image slice from the prev. imported data (imageslice)\n",
    "    a. define the row size (rowsize)\n",
    "    b. define the column size (colsize)\n",
    "    c. define value of brightest pixel (zmax)\n",
    "    d. define the value of the darkest pixel (zmin)\n",
    "3. Third function plots/displays the image sliced in the prev. step (display)\n",
    "    a. define the color scheme (zmap)\n",
    "    b. control which color is minimum pixel value (dismin)\n",
    "    c. control which color is maximum pixel value (dismax)\n",
    "4. Fourth function loads the mask [possibly make mask down the line, but start with just loading mask] (loadmask)\n",
    "    a. ask the class \"is there a mask\" and get a boulean response of true [if the mask has loaded] or false [if the mask has not loaded]\n",
    "    (ismasked)\n",
    "5. possible function that creates a thing for the mask that outputs true or false of if it meets a certain value\n",
    "    a. true means masked, false means not masked\n",
    "6. Sixth function finds the coordinate pair of zmax or zmin (find)\n",
    "   a. defines x-value of a pixel (findx)\n",
    "   b. defines y-value of a pixel (findy)\n",
    "   c.define those values in a coordinate form (coordinate)\n",
    "\n",
    "\n",
    "\n",
    "\n",
    "Difference between functions and attributes: functions can also create attributes, call other functions inside the class, and actually do stuff "
   ]
  },
  {
   "cell_type": "markdown",
   "id": "009acc74-1403-4cc8-a4e4-1fb2d5483e5b",
   "metadata": {},
   "source": [
    "project for this week: think of other functions that might be useful and what else we need to define \n",
    "\n",
    "questions \n",
    "\n",
    "1. is x time in this case? if so what is y?\n",
    "2. how do attributes play into a function? what's an attribute and what's not?"
   ]
  }
 ],
 "metadata": {
  "kernelspec": {
   "display_name": "Python 3 (ipykernel)",
   "language": "python",
   "name": "python3"
  },
  "language_info": {
   "codemirror_mode": {
    "name": "ipython",
    "version": 3
   },
   "file_extension": ".py",
   "mimetype": "text/x-python",
   "name": "python",
   "nbconvert_exporter": "python",
   "pygments_lexer": "ipython3",
   "version": "3.10.16"
  }
 },
 "nbformat": 4,
 "nbformat_minor": 5
}
