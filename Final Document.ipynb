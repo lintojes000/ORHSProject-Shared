{
 "cells": [
  {
   "cell_type": "markdown",
   "id": "2d0aa64e-f2ab-4750-a2c1-7c2b7d112fa3",
   "metadata": {},
   "source": [
    "# Exploring a Data Set Using a For Loop\n",
    "## implementing our class and applying it to a sample set of data to ensure the class functions"
   ]
  },
  {
   "cell_type": "code",
   "execution_count": null,
   "id": "d93925f9-8bfa-4a36-ad8c-ba1c1896b159",
   "metadata": {},
   "outputs": [],
   "source": [
    "#do markdown notes to explain what you're doing, and then try those steps in the cell below using code"
   ]
  },
  {
   "cell_type": "markdown",
   "id": "22466830-bee7-4fcb-ba7e-390ccfd5065d",
   "metadata": {},
   "source": [
    "To begin, we are importing our previously made class, imageToolbox, which holds all of the functions/masks that can be applied to a data set. We will then import a sample set of data to test the functionality of our class and search for possible improvements needed. We created this class using Visual Studio Code."
   ]
  },
  {
   "cell_type": "code",
   "execution_count": null,
   "id": "5d52136b-5b9f-42c8-90a7-681ba3e1cc01",
   "metadata": {},
   "outputs": [],
   "source": [
    "import importlib\n",
    "import ORHSProject as proj\n",
    "importlib.reload(proj)\n",
    "\n",
    "import copy\n",
    "from mantid.simpleapi import *\n",
    "import matplotlib.pyplot as plt\n",
    "import numpy as np\n",
    "import skimage as ski"
   ]
  },
  {
   "cell_type": "markdown",
   "id": "a47fcf4e-9d9e-4445-a02f-fe285fe1e088",
   "metadata": {},
   "source": [
    "Next, we import the data that the class will be applied to."
   ]
  },
  {
   "cell_type": "code",
   "execution_count": null,
   "id": "beb0ef3f-6ebb-4fb6-9535-e57110777ec2",
   "metadata": {},
   "outputs": [],
   "source": [
    "inputDataPath = \"/SNS/SNAP/shared/temp/ORHSData2.nxs\"\n",
    "neutronData = LoadNexusProcessed(Filename=inputDataPath)"
   ]
  },
  {
   "cell_type": "markdown",
   "id": "9c343381-ce8c-44f1-b1b4-5c8602c9f761",
   "metadata": {},
   "source": [
    "Create and plot a single instance of the class representing a slice of the data. Then, take the attributes of the data at that instance to place limits on what is shown in the image."
   ]
  },
  {
   "cell_type": "code",
   "execution_count": null,
   "id": "6cf4bab9-baec-4030-abe1-2bf24ccd0d3f",
   "metadata": {},
   "outputs": [],
   "source": [
    "imbox = proj.imageToolbox\n",
    "slice1 = imbox('neutronData',uMin=1.22,uMax=1.27)\n",
    "slice1.applymask()\n",
    "#slice1.imageFactory\n",
    "slice1.image = slice1.maskedimage\n",
    "plt.imshow(slice1.image, vmax= .02)"
   ]
  },
  {
   "cell_type": "markdown",
   "id": "09693c33-e2a0-423f-92ab-6f6e0d8cff33",
   "metadata": {},
   "source": [
    "Now that we have an image of data to work with, we can apply masks onto said data, which essentially just clean it of unwanted values. Although there are multiple masks built into imageToolbox, the one we have found to be most effective is threshmask, which sets a threshold and masks all values above that threshold. There is also a function applymask that can be used with any of the others, makes a copy of the original image, applies the desired mask, and prints a statement regarding how many pixels in the image are masked."
   ]
  },
  {
   "cell_type": "code",
   "execution_count": null,
   "id": "602006f3-f64a-4010-85ee-ebba2d414e67",
   "metadata": {},
   "outputs": [],
   "source": [
    "slice1.threshmask(1)\n",
    "slice1.applymask()"
   ]
  },
  {
   "cell_type": "markdown",
   "id": "6448e5a7-ffef-4ba2-9b42-d8a0282134b8",
   "metadata": {},
   "source": [
    "Another function within imageToolbox is the erasemask function, which wipes any previously applied mask from the data/image. This can be applied before and after applying a mask."
   ]
  },
  {
   "cell_type": "code",
   "execution_count": null,
   "id": "f97a3999-6857-4425-b5ad-9429e7608000",
   "metadata": {},
   "outputs": [],
   "source": [
    "slice1.erasemask()"
   ]
  },
  {
   "cell_type": "code",
   "execution_count": null,
   "id": "42d39df7-41c2-4234-bced-b09eea7465b8",
   "metadata": {},
   "outputs": [],
   "source": [
    "set up a for loop to figure out the minimum unit value, max unit value, divide it up into 10, 100, or 1000 (if time)"
   ]
  }
 ],
 "metadata": {
  "kernelspec": {
   "display_name": "Python 3 (ipykernel)",
   "language": "python",
   "name": "python3"
  },
  "language_info": {
   "codemirror_mode": {
    "name": "ipython",
    "version": 3
   },
   "file_extension": ".py",
   "mimetype": "text/x-python",
   "name": "python",
   "nbconvert_exporter": "python",
   "pygments_lexer": "ipython3",
   "version": "3.10.16"
  }
 },
 "nbformat": 4,
 "nbformat_minor": 5
}
