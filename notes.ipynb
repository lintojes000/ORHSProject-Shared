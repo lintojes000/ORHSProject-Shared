{
 "cells": [
  {
   "cell_type": "code",
   "execution_count": null,
   "id": "0440d159-9697-49f4-8a79-96c2184f09fe",
   "metadata": {},
   "outputs": [],
   "source": [
    "2/25 notes: #look into what a class is \n",
    "dunder= double underscore \n",
    "_init_ special function whose purpose is to build to the class\n",
    "self means class is referring to itself\n",
    "classes contain attributes "
   ]
  },
  {
   "cell_type": "code",
   "execution_count": null,
   "id": "c76584d0-bd08-444b-8980-f333130be1d9",
   "metadata": {},
   "outputs": [],
   "source": [
    "ls means list, it lists everything you have in that file\n",
    "cd redirects you to diff place\n",
    "pwd shows you where you are in the line\n",
    "conda env list shows the environments you have access to\n",
    "conda env create -f environment .yml shows the channels\n",
    "\n",
    "A= array\n",
    "indexing: pulling out specific numbers from an array (data set)\n",
    "\n",
    "this week: look into making an array of the data from a single slice of data\n",
    "A[i][j]\n"
   ]
  },
  {
   "cell_type": "code",
   "execution_count": 3,
   "id": "f4a8fb12",
   "metadata": {},
   "outputs": [
    {
     "ename": "SyntaxError",
     "evalue": "invalid syntax (3341106244.py, line 1)",
     "output_type": "error",
     "traceback": [
      "\u001b[0;36m  Cell \u001b[0;32mIn[3], line 1\u001b[0;36m\u001b[0m\n\u001b[0;31m    find out how to get A[i][j]\u001b[0m\n\u001b[0m         ^\u001b[0m\n\u001b[0;31mSyntaxError\u001b[0m\u001b[0;31m:\u001b[0m invalid syntax\n"
     ]
    }
   ],
   "source": [
    "find out how to get A[i][j] \n",
    "find brightest pixel and mask it to 0\n",
    "thresh function, copy it"
   ]
  },
  {
   "cell_type": "code",
   "execution_count": 102,
   "id": "ea31a259-4597-41f4-9fb6-c52a9b069d6f",
   "metadata": {},
   "outputs": [
    {
     "name": "stdout",
     "output_type": "stream",
     "text": [
      "Jaeli\n",
      "Jessica\n",
      "Elena\n",
      "Nate\n",
      "Juno\n",
      "Drayton\n",
      "Dawid\n"
     ]
    }
   ],
   "source": [
    "our_list = ['Jaeli', 'Jessica', 'Elena', 'Nate', 'Juno', 'Drayton', 'Dawid']\n",
    "for name in our_list:\n",
    "    print(name)"
   ]
  },
  {
   "cell_type": "code",
   "execution_count": 104,
   "id": "50a59d1c-aedb-4062-95a6-393f2d500e10",
   "metadata": {},
   "outputs": [
    {
     "name": "stdout",
     "output_type": "stream",
     "text": [
      "[['mclaren', 'norris', '4']]\n",
      "[['mercedes', 'russell', '63']]\n",
      "[['mclaren', 'norris', '4']]\n",
      "[['mercedes', 'russell', '63']]\n",
      "[['mclaren', 'norris', '4']]\n",
      "[['mercedes', 'russell', '63']]\n",
      "[['mclaren', 'norris', '4']]\n",
      "[['mercedes', 'russell', '63']]\n",
      "[['mclaren', 'norris', '4']]\n",
      "[['mercedes', 'russell', '63']]\n"
     ]
    }
   ],
   "source": [
    "F1_list = [['team', 'driver', 'number'],\n",
    "            ['mclaren', 'norris', '4'],\n",
    "            ['ferrari', 'leclerc', '16'],\n",
    "            ['mercedes', 'russell', '63'],\n",
    "            ['williams', 'sainz', '55']]\n",
    "for team in F1_list:\n",
    "    print(F1_list[1:2]) #first number can't be bigger than second, or the outputs are blank brackets. \n",
    "    #first number is where it starts, second is where it end. first is not printed\n",
    "    print(F1_list[3:4])\n",
    "#for F1_list[2:3] in team:\n",
    "    #print(driver)"
   ]
  },
  {
   "cell_type": "code",
   "execution_count": 111,
   "id": "071bc2f0-d9ed-4f95-beea-bfaef155c23f",
   "metadata": {},
   "outputs": [
    {
     "name": "stdout",
     "output_type": "stream",
     "text": [
      "teams ['mclaren', 'ferrari', 'mercedes', 'williams']\n",
      "driver ['norris', 'leclerc', 'russell', 'sainz']\n",
      "number ['4', '16', '63', '55']\n",
      "color ['orange', 'red', 'black', 'blue']\n",
      "color ['mclaren', 'ferrari', 'mercedes', 'williams']\n"
     ]
    }
   ],
   "source": [
    "f1_dict = {'teams': ['mclaren','ferrari', 'mercedes', 'williams'],\n",
    "           'driver': ['norris', 'leclerc', 'russell', 'sainz'],\n",
    "           'number': ['4', '16', '63', '55']}\n",
    "f1_dict['color'] = ['orange', 'red', 'black', 'blue']\n",
    "for key in f1_dict:\n",
    "    print(key,f1_dict[key])\n",
    "print(key, f1_dict['teams'])"
   ]
  },
  {
   "cell_type": "code",
   "execution_count": 126,
   "id": "320bb133-a1fc-40ba-8ce1-711828dd6247",
   "metadata": {},
   "outputs": [
    {
     "name": "stdout",
     "output_type": "stream",
     "text": [
      "mclaren has highest points\n",
      "ferrari loses\n",
      "mercedes loses\n",
      "williams loses\n"
     ]
    }
   ],
   "source": [
    "f1_list = [['team', 'driver', 'points'],\n",
    "           ['mclaren', 'norris', '374'],\n",
    "           ['ferrari', 'leclerc', '356'],\n",
    "           ['mercedes', 'russell', '245'],\n",
    "           ['williams', 'sainz', '290']]\n",
    "#for row in f1_list: #gets each column by itself\n",
    "    #print(row[2]) \n",
    "\n",
    "column_values = [row[2] for row in f1_list]\n",
    "#print(column_values)\n",
    "#min_values = min(row[2])\n",
    "#print(min_values) #how to get it to print the minimum points number, not smallest number or letter used?\n",
    "column_numbers = [int(x) for x in column_values[1:5]] #listcomprehension\n",
    "#print(column_numbers)\n",
    "smallest_number= min(column_numbers)\n",
    "#print(smallest_number)\n",
    "\n",
    "for row in f1_list[1:5]:\n",
    "    if row[2] == '374':\n",
    "        print(f'{row[0]} has highest points')\n",
    "    else:\n",
    "        print(f'{row[0]} loses')"
   ]
  },
  {
   "cell_type": "code",
   "execution_count": 2,
   "id": "a2ddf7e3-2477-4b29-b25b-b8b6d011ca3b",
   "metadata": {},
   "outputs": [
    {
     "name": "stdout",
     "output_type": "stream",
     "text": [
      " banana is yellow and I rate it 7\n",
      " strawberry is red and I rate it 9\n",
      " blueberry is blue and I rate it 2\n",
      " kiwi is green and I rate it 4\n"
     ]
    }
   ],
   "source": [
    "class Fruit:\n",
    "    def __init__ (self, name, color, rating):\n",
    "        self.name = name\n",
    "        self.color = color\n",
    "        self.rating = rating\n",
    "    def __str__ (self):\n",
    "        return f\" {self.name} is {self.color} and I rate it {self.rating}\"\n",
    "\n",
    "banana = Fruit(\"banana\", \"yellow\", 7)\n",
    "strawberry = Fruit(\"strawberry\", \"red\", 9)\n",
    "blueberry = Fruit(\"blueberry\", \"blue\", 2)\n",
    "kiwi = Fruit(\"kiwi\", \"green\", 4)\n",
    "\n",
    "print(banana)\n",
    "print(strawberry)\n",
    "print(blueberry)\n",
    "print(kiwi)"
   ]
  },
  {
   "cell_type": "code",
   "execution_count": 5,
   "id": "33ec235a-3af9-477d-90ff-47532776d19a",
   "metadata": {},
   "outputs": [
    {
     "name": "stdout",
     "output_type": "stream",
     "text": [
      " Jaeli is 16, tall, and cool.\n",
      " Jessica is 17, short, and cool too.\n"
     ]
    }
   ],
   "source": [
    "class Thesis:\n",
    "    def __init__ (self, name, age, height, adjective):\n",
    "        self.name = name\n",
    "        self.age = age\n",
    "        self.height = height\n",
    "        self.adjective = adjective\n",
    "    def __str__ (self):\n",
    "        return f\" {self.name} is {self.age}, {self.height}, and {self.adjective}.\"\n",
    "\n",
    "Jaeli = Thesis(\"Jaeli\", \"16\", \"tall\", \"cool\")\n",
    "Jessica = Thesis(\"Jessica\", \"17\", \"short\", \"cool too\")\n",
    "\n",
    "print(Jaeli)\n",
    "print(Jessica)"
   ]
  },
  {
   "cell_type": "code",
   "execution_count": 10,
   "id": "2670d865-2132-4301-962a-2afa40073342",
   "metadata": {},
   "outputs": [
    {
     "name": "stdout",
     "output_type": "stream",
     "text": [
      "Taylor Swift sings pop and is a girl.\n",
      "Stevie Nicks sings rock and is a girl.\n",
      "Kendrick Lamar sings rap and is a boy.\n"
     ]
    }
   ],
   "source": [
    "class Singers:\n",
    "    def __init__ (self, name, genre, gender):\n",
    "        self.name = name\n",
    "        self.genre = genre\n",
    "        self.gender = gender\n",
    "    def __str__ (self):\n",
    "        return f\"{self.name} sings {self.genre} and is a {self.gender}.\"\n",
    "\n",
    "TaylorSwift = Singers('Taylor Swift', 'pop', 'girl')\n",
    "StevieNicks = Singers('Stevie Nicks', 'rock', 'girl')\n",
    "KendrickLamar = Singers('Kendrick Lamar', 'rap', 'boy')\n",
    "\n",
    "print(TaylorSwift)\n",
    "print(StevieNicks)\n",
    "print(KendrickLamar)"
   ]
  },
  {
   "cell_type": "code",
   "execution_count": 1,
   "id": "4792eda8-1608-4442-9fe3-5a1b349a5ee5",
   "metadata": {},
   "outputs": [
    {
     "name": "stdout",
     "output_type": "stream",
     "text": [
      "True\n",
      "False\n"
     ]
    }
   ],
   "source": [
    "x = 6\n",
    "y = 10\n",
    "\n",
    "print(x != 7)\n",
    "print(x != 6) # \"!=\" means something is not equal to the value on the other side\n",
    "\n",
    "#Mclaren = 1\n",
    "#Ferrari = 2\n",
    "#RedBull = 3\n",
    "#Mercedes = 4\n",
    "\n",
    "#def __str__(self):"
   ]
  },
  {
   "cell_type": "code",
   "execution_count": null,
   "id": "60800363-9dc2-4214-b7ce-8c903b82d4e6",
   "metadata": {},
   "outputs": [],
   "source": []
  }
 ],
 "metadata": {
  "kernelspec": {
   "display_name": "Python 3 (ipykernel)",
   "language": "python",
   "name": "python3"
  },
  "language_info": {
   "codemirror_mode": {
    "name": "ipython",
    "version": 3
   },
   "file_extension": ".py",
   "mimetype": "text/x-python",
   "name": "python",
   "nbconvert_exporter": "python",
   "pygments_lexer": "ipython3",
   "version": "3.10.16"
  }
 },
 "nbformat": 4,
 "nbformat_minor": 5
}
